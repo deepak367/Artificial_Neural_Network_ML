{
  "nbformat": 4,
  "nbformat_minor": 0,
  "metadata": {
    "colab": {
      "name": "artificial_neural_network.ipynb",
      "provenance": [],
      "collapsed_sections": []
    },
    "kernelspec": {
      "name": "python3",
      "display_name": "Python 3"
    }
  },
  "cells": [
    {
      "cell_type": "markdown",
      "metadata": {
        "id": "lP6JLo1tGNBg"
      },
      "source": [
        "# Artificial Neural Network"
      ]
    },
    {
      "cell_type": "markdown",
      "metadata": {
        "id": "1E0Q3aoKUCRX"
      },
      "source": [
        "## Part 1 - Data Preprocessing"
      ]
    },
    {
      "cell_type": "markdown",
      "metadata": {
        "id": "gWZyYmS_UE_L"
      },
      "source": [
        "### Importing the libraries"
      ]
    },
    {
      "cell_type": "code",
      "metadata": {
        "id": "kbp9xOve7MIB"
      },
      "source": [
        "import numpy as np\n",
        "import tensorflow as tf\n",
        "import pandas as pd"
      ],
      "execution_count": null,
      "outputs": []
    },
    {
      "cell_type": "code",
      "metadata": {
        "id": "cKAWTn1u7y7a",
        "outputId": "b8727364-1e4a-48fe-c8fa-d307fded9bb1",
        "colab": {
          "base_uri": "https://localhost:8080/",
          "height": 35
        }
      },
      "source": [
        "tf.__version__"
      ],
      "execution_count": null,
      "outputs": [
        {
          "output_type": "execute_result",
          "data": {
            "application/vnd.google.colaboratory.intrinsic+json": {
              "type": "string"
            },
            "text/plain": [
              "'2.3.0'"
            ]
          },
          "metadata": {
            "tags": []
          },
          "execution_count": 2
        }
      ]
    },
    {
      "cell_type": "markdown",
      "metadata": {
        "id": "cKWAkFVGUU0Z"
      },
      "source": [
        "### Importing the dataset"
      ]
    },
    {
      "cell_type": "code",
      "metadata": {
        "id": "xAQNaqJT-cYh"
      },
      "source": [
        "dataset = pd.read_csv('Churn_Modelling.csv')\n",
        "X = dataset.iloc[:, 3:-1].values\n",
        "y = dataset.iloc[:, -1].values"
      ],
      "execution_count": null,
      "outputs": []
    },
    {
      "cell_type": "code",
      "metadata": {
        "id": "n03s7AYI_sQP",
        "outputId": "72d5c653-4629-4a4a-cc5b-ac405fd7cbf6",
        "colab": {
          "base_uri": "https://localhost:8080/"
        }
      },
      "source": [
        "print(X)"
      ],
      "execution_count": null,
      "outputs": [
        {
          "output_type": "stream",
          "text": [
            "[[619 'France' 'Female' ... 1 1 101348.88]\n",
            " [608 'Spain' 'Female' ... 0 1 112542.58]\n",
            " [502 'France' 'Female' ... 1 0 113931.57]\n",
            " ...\n",
            " [709 'France' 'Female' ... 0 1 42085.58]\n",
            " [772 'Germany' 'Male' ... 1 0 92888.52]\n",
            " [792 'France' 'Female' ... 1 0 38190.78]]\n"
          ],
          "name": "stdout"
        }
      ]
    },
    {
      "cell_type": "code",
      "metadata": {
        "id": "ebmwn5Sg_skw",
        "outputId": "b9cf6fbf-934f-49c4-c236-c5481c70d921",
        "colab": {
          "base_uri": "https://localhost:8080/"
        }
      },
      "source": [
        "print(y)"
      ],
      "execution_count": null,
      "outputs": [
        {
          "output_type": "stream",
          "text": [
            "[1 0 1 ... 1 1 0]\n"
          ],
          "name": "stdout"
        }
      ]
    },
    {
      "cell_type": "markdown",
      "metadata": {
        "id": "N6bQ0UgSU-NJ"
      },
      "source": [
        "### Encoding categorical data"
      ]
    },
    {
      "cell_type": "code",
      "metadata": {
        "id": "Y_1Q5DysFu9B"
      },
      "source": [
        "LabelEncoder For \"Gender\""
      ],
      "execution_count": null,
      "outputs": []
    },
    {
      "cell_type": "code",
      "metadata": {
        "id": "KsVc3y2nB5c3"
      },
      "source": [
        "from sklearn.preprocessing import LabelEncoder\n",
        "le = LabelEncoder()\n",
        "X[:,2] = le.fit_transform(X[:,2])"
      ],
      "execution_count": null,
      "outputs": []
    },
    {
      "cell_type": "code",
      "metadata": {
        "id": "l0Im8kLsFh32",
        "outputId": "eb4ad970-a981-476f-e97c-6acd9caeaf98",
        "colab": {
          "base_uri": "https://localhost:8080/"
        }
      },
      "source": [
        "print(X)"
      ],
      "execution_count": null,
      "outputs": [
        {
          "output_type": "stream",
          "text": [
            "[[619 'France' 0 ... 1 1 101348.88]\n",
            " [608 'Spain' 0 ... 0 1 112542.58]\n",
            " [502 'France' 0 ... 1 0 113931.57]\n",
            " ...\n",
            " [709 'France' 0 ... 0 1 42085.58]\n",
            " [772 'Germany' 1 ... 1 0 92888.52]\n",
            " [792 'France' 0 ... 1 0 38190.78]]\n"
          ],
          "name": "stdout"
        }
      ]
    },
    {
      "cell_type": "code",
      "metadata": {
        "id": "2WI9aFw9F1Bf"
      },
      "source": [
        "OneHotEncoder For \"Country\""
      ],
      "execution_count": null,
      "outputs": []
    },
    {
      "cell_type": "code",
      "metadata": {
        "id": "5cIl32l5F0-Q"
      },
      "source": [
        "from sklearn.compose import ColumnTransformer\n",
        "from sklearn.preprocessing import OneHotEncoder\n",
        "ct = ColumnTransformer(transformers=[('encoder', OneHotEncoder(), [1])], remainder='passthrough')\n",
        "X =  np.array(ct.fit_transform(X))"
      ],
      "execution_count": null,
      "outputs": []
    },
    {
      "cell_type": "code",
      "metadata": {
        "id": "upMSEX1DG8yg",
        "outputId": "18ed6701-a98c-4d17-f713-cc6b7f832440",
        "colab": {
          "base_uri": "https://localhost:8080/"
        }
      },
      "source": [
        "print(X)"
      ],
      "execution_count": null,
      "outputs": [
        {
          "output_type": "stream",
          "text": [
            "[[1.0 0.0 0.0 ... 1 1 101348.88]\n",
            " [0.0 0.0 1.0 ... 0 1 112542.58]\n",
            " [1.0 0.0 0.0 ... 1 0 113931.57]\n",
            " ...\n",
            " [1.0 0.0 0.0 ... 0 1 42085.58]\n",
            " [0.0 1.0 0.0 ... 1 0 92888.52]\n",
            " [1.0 0.0 0.0 ... 1 0 38190.78]]\n"
          ],
          "name": "stdout"
        }
      ]
    },
    {
      "cell_type": "markdown",
      "metadata": {
        "id": "vHol938cW8zd"
      },
      "source": [
        "### Splitting the dataset into the Training set and Test set"
      ]
    },
    {
      "cell_type": "code",
      "metadata": {
        "id": "HWkL-GGKHl8q"
      },
      "source": [
        "from sklearn.model_selection import train_test_split\n",
        "X_train, X_test, y_train, y_test = train_test_split(X, y, test_size = 0.2, random_state = 1)"
      ],
      "execution_count": null,
      "outputs": []
    },
    {
      "cell_type": "markdown",
      "metadata": {
        "id": "RE_FcHyfV3TQ"
      },
      "source": [
        "### Feature Scaling"
      ]
    },
    {
      "cell_type": "code",
      "metadata": {
        "id": "3FRYXuvPLV4S"
      },
      "source": [
        "from sklearn.preprocessing import StandardScaler\n",
        "sc = StandardScaler()\n",
        "X_train = sc.fit_transform(X_train)\n",
        "X_test = sc.transform(X_test)"
      ],
      "execution_count": null,
      "outputs": []
    },
    {
      "cell_type": "code",
      "metadata": {
        "id": "T4e9nSVNLy8w",
        "outputId": "53301655-ffbc-4a8d-f103-3298a88ca0fb",
        "colab": {
          "base_uri": "https://localhost:8080/"
        }
      },
      "source": [
        "print(X_train)"
      ],
      "execution_count": null,
      "outputs": [
        {
          "output_type": "stream",
          "text": [
            "[[-0.99850112  1.71490137 -0.57273139 ... -1.55337352  0.97725852\n",
            "   0.42739449]\n",
            " [ 1.00150113 -0.58312392 -0.57273139 ... -1.55337352 -1.02327069\n",
            "  -1.02548708]\n",
            " [-0.99850112  1.71490137 -0.57273139 ...  0.64376017  0.97725852\n",
            "  -0.94479772]\n",
            " ...\n",
            " [ 1.00150113 -0.58312392 -0.57273139 ...  0.64376017  0.97725852\n",
            "  -0.14096853]\n",
            " [ 1.00150113 -0.58312392 -0.57273139 ...  0.64376017  0.97725852\n",
            "   0.01781218]\n",
            " [-0.99850112  1.71490137 -0.57273139 ...  0.64376017 -1.02327069\n",
            "  -1.15822478]]\n"
          ],
          "name": "stdout"
        }
      ]
    },
    {
      "cell_type": "code",
      "metadata": {
        "id": "mkw9FuMqMgGN",
        "outputId": "a01b9d83-a12f-47b4-9ff6-be5853ba74df",
        "colab": {
          "base_uri": "https://localhost:8080/"
        }
      },
      "source": [
        "print(X_test)"
      ],
      "execution_count": null,
      "outputs": [
        {
          "output_type": "stream",
          "text": [
            "[[ 1.00150113 -0.58312392 -0.57273139 ...  0.64376017  0.97725852\n",
            "  -0.05360571]\n",
            " [ 1.00150113 -0.58312392 -0.57273139 ...  0.64376017 -1.02327069\n",
            "  -0.58392685]\n",
            " [ 1.00150113 -0.58312392 -0.57273139 ... -1.55337352  0.97725852\n",
            "  -0.16685331]\n",
            " ...\n",
            " [-0.99850112 -0.58312392  1.74601919 ... -1.55337352  0.97725852\n",
            "   1.0669965 ]\n",
            " [-0.99850112  1.71490137 -0.57273139 ...  0.64376017  0.97725852\n",
            "   1.13101314]\n",
            " [-0.99850112  1.71490137 -0.57273139 ...  0.64376017  0.97725852\n",
            "  -0.88790165]]\n"
          ],
          "name": "stdout"
        }
      ]
    },
    {
      "cell_type": "markdown",
      "metadata": {
        "id": "-zfEzkRVXIwF"
      },
      "source": [
        "## Part 2 - Building the ANN"
      ]
    },
    {
      "cell_type": "markdown",
      "metadata": {
        "id": "KvdeScabXtlB"
      },
      "source": [
        "### Initializing the ANN"
      ]
    },
    {
      "cell_type": "code",
      "metadata": {
        "id": "cqTDxcbjt2vR"
      },
      "source": [
        "ann = tf.keras.models.Sequential()"
      ],
      "execution_count": null,
      "outputs": []
    },
    {
      "cell_type": "markdown",
      "metadata": {
        "id": "rP6urV6SX7kS"
      },
      "source": [
        "### Adding the input layer and the first hidden layer"
      ]
    },
    {
      "cell_type": "code",
      "metadata": {
        "id": "H17PMNEKt8lS"
      },
      "source": [
        "ann.add(tf.keras.layers.Dense(units=6, activation='relu'))"
      ],
      "execution_count": null,
      "outputs": []
    },
    {
      "cell_type": "markdown",
      "metadata": {
        "id": "BELWAc_8YJze"
      },
      "source": [
        "### Adding the second hidden layer"
      ]
    },
    {
      "cell_type": "code",
      "metadata": {
        "id": "z1QU-6UwuFfz"
      },
      "source": [
        "ann.add(tf.keras.layers.Dense(units=6, activation='relu'))"
      ],
      "execution_count": null,
      "outputs": []
    },
    {
      "cell_type": "markdown",
      "metadata": {
        "id": "OyNEe6RXYcU4"
      },
      "source": [
        "### Adding the output layer"
      ]
    },
    {
      "cell_type": "code",
      "metadata": {
        "id": "gIGbbiUwuH29"
      },
      "source": [
        "ann.add(tf.keras.layers.Dense(units=1, activation='sigmoid'))"
      ],
      "execution_count": null,
      "outputs": []
    },
    {
      "cell_type": "markdown",
      "metadata": {
        "id": "JT4u2S1_Y4WG"
      },
      "source": [
        "## Part 3 - Training the ANN"
      ]
    },
    {
      "cell_type": "markdown",
      "metadata": {
        "id": "8GWlJChhY_ZI"
      },
      "source": [
        "### Compiling the ANN"
      ]
    },
    {
      "cell_type": "code",
      "metadata": {
        "id": "aQEWi43cD-Re"
      },
      "source": [
        "ann.compile(optimizer = 'adam', loss = 'binary_crossentropy', metrics = ['accuracy'])"
      ],
      "execution_count": null,
      "outputs": []
    },
    {
      "cell_type": "markdown",
      "metadata": {
        "id": "0QR_G5u7ZLSM"
      },
      "source": [
        "### Training the ANN on the Training set"
      ]
    },
    {
      "cell_type": "code",
      "metadata": {
        "id": "z_YQUxaQECSq",
        "outputId": "b1a33af7-e14d-4eaa-9071-32c101fb1846",
        "colab": {
          "base_uri": "https://localhost:8080/"
        }
      },
      "source": [
        "ann.fit(X_train, y_train, batch_size = 32, epochs = 100)"
      ],
      "execution_count": null,
      "outputs": [
        {
          "output_type": "stream",
          "text": [
            "Epoch 1/100\n",
            "250/250 [==============================] - 0s 883us/step - loss: 0.5791 - accuracy: 0.6930\n",
            "Epoch 2/100\n",
            "250/250 [==============================] - 0s 937us/step - loss: 0.4676 - accuracy: 0.7989\n",
            "Epoch 3/100\n",
            "250/250 [==============================] - 0s 908us/step - loss: 0.4499 - accuracy: 0.8014\n",
            "Epoch 4/100\n",
            "250/250 [==============================] - 0s 926us/step - loss: 0.4388 - accuracy: 0.8064\n",
            "Epoch 5/100\n",
            "250/250 [==============================] - 0s 891us/step - loss: 0.4320 - accuracy: 0.8115\n",
            "Epoch 6/100\n",
            "250/250 [==============================] - 0s 875us/step - loss: 0.4272 - accuracy: 0.8159\n",
            "Epoch 7/100\n",
            "250/250 [==============================] - 0s 887us/step - loss: 0.4230 - accuracy: 0.8180\n",
            "Epoch 8/100\n",
            "250/250 [==============================] - 0s 956us/step - loss: 0.4155 - accuracy: 0.8221\n",
            "Epoch 9/100\n",
            "250/250 [==============================] - 0s 871us/step - loss: 0.4047 - accuracy: 0.8301\n",
            "Epoch 10/100\n",
            "250/250 [==============================] - 0s 869us/step - loss: 0.3923 - accuracy: 0.8384\n",
            "Epoch 11/100\n",
            "250/250 [==============================] - 0s 887us/step - loss: 0.3805 - accuracy: 0.8447\n",
            "Epoch 12/100\n",
            "250/250 [==============================] - 0s 861us/step - loss: 0.3722 - accuracy: 0.8497\n",
            "Epoch 13/100\n",
            "250/250 [==============================] - 0s 919us/step - loss: 0.3661 - accuracy: 0.8514\n",
            "Epoch 14/100\n",
            "250/250 [==============================] - 0s 885us/step - loss: 0.3624 - accuracy: 0.8543\n",
            "Epoch 15/100\n",
            "250/250 [==============================] - 0s 870us/step - loss: 0.3597 - accuracy: 0.8516\n",
            "Epoch 16/100\n",
            "250/250 [==============================] - 0s 868us/step - loss: 0.3576 - accuracy: 0.8541\n",
            "Epoch 17/100\n",
            "250/250 [==============================] - 0s 930us/step - loss: 0.3563 - accuracy: 0.8525\n",
            "Epoch 18/100\n",
            "250/250 [==============================] - 0s 885us/step - loss: 0.3550 - accuracy: 0.8544\n",
            "Epoch 19/100\n",
            "250/250 [==============================] - 0s 887us/step - loss: 0.3539 - accuracy: 0.8537\n",
            "Epoch 20/100\n",
            "250/250 [==============================] - 0s 876us/step - loss: 0.3527 - accuracy: 0.8561\n",
            "Epoch 21/100\n",
            "250/250 [==============================] - 0s 889us/step - loss: 0.3523 - accuracy: 0.8550\n",
            "Epoch 22/100\n",
            "250/250 [==============================] - 0s 925us/step - loss: 0.3518 - accuracy: 0.8569\n",
            "Epoch 23/100\n",
            "250/250 [==============================] - 0s 876us/step - loss: 0.3513 - accuracy: 0.8550\n",
            "Epoch 24/100\n",
            "250/250 [==============================] - 0s 864us/step - loss: 0.3503 - accuracy: 0.8560\n",
            "Epoch 25/100\n",
            "250/250 [==============================] - 0s 866us/step - loss: 0.3499 - accuracy: 0.8554\n",
            "Epoch 26/100\n",
            "250/250 [==============================] - 0s 921us/step - loss: 0.3494 - accuracy: 0.8569\n",
            "Epoch 27/100\n",
            "250/250 [==============================] - 0s 865us/step - loss: 0.3487 - accuracy: 0.8565\n",
            "Epoch 28/100\n",
            "250/250 [==============================] - 0s 858us/step - loss: 0.3486 - accuracy: 0.8568\n",
            "Epoch 29/100\n",
            "250/250 [==============================] - 0s 859us/step - loss: 0.3479 - accuracy: 0.8562\n",
            "Epoch 30/100\n",
            "250/250 [==============================] - 0s 864us/step - loss: 0.3476 - accuracy: 0.8575\n",
            "Epoch 31/100\n",
            "250/250 [==============================] - 0s 981us/step - loss: 0.3474 - accuracy: 0.8571\n",
            "Epoch 32/100\n",
            "250/250 [==============================] - 0s 900us/step - loss: 0.3468 - accuracy: 0.8554\n",
            "Epoch 33/100\n",
            "250/250 [==============================] - 0s 880us/step - loss: 0.3465 - accuracy: 0.8569\n",
            "Epoch 34/100\n",
            "250/250 [==============================] - 0s 875us/step - loss: 0.3461 - accuracy: 0.8569\n",
            "Epoch 35/100\n",
            "250/250 [==============================] - 0s 935us/step - loss: 0.3463 - accuracy: 0.8569\n",
            "Epoch 36/100\n",
            "250/250 [==============================] - 0s 880us/step - loss: 0.3461 - accuracy: 0.8574\n",
            "Epoch 37/100\n",
            "250/250 [==============================] - 0s 883us/step - loss: 0.3458 - accuracy: 0.8577\n",
            "Epoch 38/100\n",
            "250/250 [==============================] - 0s 857us/step - loss: 0.3453 - accuracy: 0.8580\n",
            "Epoch 39/100\n",
            "250/250 [==============================] - 0s 887us/step - loss: 0.3452 - accuracy: 0.8569\n",
            "Epoch 40/100\n",
            "250/250 [==============================] - 0s 929us/step - loss: 0.3450 - accuracy: 0.8579\n",
            "Epoch 41/100\n",
            "250/250 [==============================] - 0s 934us/step - loss: 0.3446 - accuracy: 0.8580\n",
            "Epoch 42/100\n",
            "250/250 [==============================] - 0s 856us/step - loss: 0.3445 - accuracy: 0.8594\n",
            "Epoch 43/100\n",
            "250/250 [==============================] - 0s 890us/step - loss: 0.3443 - accuracy: 0.8580\n",
            "Epoch 44/100\n",
            "250/250 [==============================] - 0s 917us/step - loss: 0.3443 - accuracy: 0.8584\n",
            "Epoch 45/100\n",
            "250/250 [==============================] - 0s 911us/step - loss: 0.3443 - accuracy: 0.8577\n",
            "Epoch 46/100\n",
            "250/250 [==============================] - 0s 990us/step - loss: 0.3441 - accuracy: 0.8579\n",
            "Epoch 47/100\n",
            "250/250 [==============================] - 0s 901us/step - loss: 0.3437 - accuracy: 0.8597\n",
            "Epoch 48/100\n",
            "250/250 [==============================] - 0s 946us/step - loss: 0.3436 - accuracy: 0.8584\n",
            "Epoch 49/100\n",
            "250/250 [==============================] - 0s 908us/step - loss: 0.3430 - accuracy: 0.8583\n",
            "Epoch 50/100\n",
            "250/250 [==============================] - 0s 909us/step - loss: 0.3435 - accuracy: 0.8594\n",
            "Epoch 51/100\n",
            "250/250 [==============================] - 0s 867us/step - loss: 0.3433 - accuracy: 0.8596\n",
            "Epoch 52/100\n",
            "250/250 [==============================] - 0s 879us/step - loss: 0.3432 - accuracy: 0.8584\n",
            "Epoch 53/100\n",
            "250/250 [==============================] - 0s 952us/step - loss: 0.3431 - accuracy: 0.8586\n",
            "Epoch 54/100\n",
            "250/250 [==============================] - 0s 941us/step - loss: 0.3425 - accuracy: 0.8594\n",
            "Epoch 55/100\n",
            "250/250 [==============================] - 0s 889us/step - loss: 0.3425 - accuracy: 0.8589\n",
            "Epoch 56/100\n",
            "250/250 [==============================] - 0s 886us/step - loss: 0.3425 - accuracy: 0.8587\n",
            "Epoch 57/100\n",
            "250/250 [==============================] - 0s 911us/step - loss: 0.3423 - accuracy: 0.8604\n",
            "Epoch 58/100\n",
            "250/250 [==============================] - 0s 894us/step - loss: 0.3419 - accuracy: 0.8602\n",
            "Epoch 59/100\n",
            "250/250 [==============================] - 0s 930us/step - loss: 0.3419 - accuracy: 0.8606\n",
            "Epoch 60/100\n",
            "250/250 [==============================] - 0s 916us/step - loss: 0.3417 - accuracy: 0.8601\n",
            "Epoch 61/100\n",
            "250/250 [==============================] - 0s 899us/step - loss: 0.3418 - accuracy: 0.8599\n",
            "Epoch 62/100\n",
            "250/250 [==============================] - 0s 897us/step - loss: 0.3413 - accuracy: 0.8601\n",
            "Epoch 63/100\n",
            "250/250 [==============================] - 0s 936us/step - loss: 0.3412 - accuracy: 0.8574\n",
            "Epoch 64/100\n",
            "250/250 [==============================] - 0s 928us/step - loss: 0.3409 - accuracy: 0.8600\n",
            "Epoch 65/100\n",
            "250/250 [==============================] - 0s 940us/step - loss: 0.3407 - accuracy: 0.8600\n",
            "Epoch 66/100\n",
            "250/250 [==============================] - 0s 928us/step - loss: 0.3403 - accuracy: 0.8593\n",
            "Epoch 67/100\n",
            "250/250 [==============================] - 0s 875us/step - loss: 0.3404 - accuracy: 0.8581\n",
            "Epoch 68/100\n",
            "250/250 [==============================] - 0s 888us/step - loss: 0.3396 - accuracy: 0.8604\n",
            "Epoch 69/100\n",
            "250/250 [==============================] - 0s 920us/step - loss: 0.3401 - accuracy: 0.8590\n",
            "Epoch 70/100\n",
            "250/250 [==============================] - 0s 978us/step - loss: 0.3400 - accuracy: 0.8586\n",
            "Epoch 71/100\n",
            "250/250 [==============================] - 0s 933us/step - loss: 0.3398 - accuracy: 0.8606\n",
            "Epoch 72/100\n",
            "250/250 [==============================] - 0s 866us/step - loss: 0.3388 - accuracy: 0.8604\n",
            "Epoch 73/100\n",
            "250/250 [==============================] - 0s 877us/step - loss: 0.3389 - accuracy: 0.8600\n",
            "Epoch 74/100\n",
            "250/250 [==============================] - 0s 913us/step - loss: 0.3385 - accuracy: 0.8606\n",
            "Epoch 75/100\n",
            "250/250 [==============================] - 0s 927us/step - loss: 0.3386 - accuracy: 0.8586\n",
            "Epoch 76/100\n",
            "250/250 [==============================] - 0s 904us/step - loss: 0.3384 - accuracy: 0.8594\n",
            "Epoch 77/100\n",
            "250/250 [==============================] - 0s 895us/step - loss: 0.3384 - accuracy: 0.8599\n",
            "Epoch 78/100\n",
            "250/250 [==============================] - 0s 933us/step - loss: 0.3384 - accuracy: 0.8606\n",
            "Epoch 79/100\n",
            "250/250 [==============================] - 0s 943us/step - loss: 0.3376 - accuracy: 0.8589\n",
            "Epoch 80/100\n",
            "250/250 [==============================] - 0s 910us/step - loss: 0.3378 - accuracy: 0.8610\n",
            "Epoch 81/100\n",
            "250/250 [==============================] - 0s 901us/step - loss: 0.3376 - accuracy: 0.8604\n",
            "Epoch 82/100\n",
            "250/250 [==============================] - 0s 957us/step - loss: 0.3374 - accuracy: 0.8596\n",
            "Epoch 83/100\n",
            "250/250 [==============================] - 0s 934us/step - loss: 0.3371 - accuracy: 0.8609\n",
            "Epoch 84/100\n",
            "250/250 [==============================] - 0s 884us/step - loss: 0.3375 - accuracy: 0.8601\n",
            "Epoch 85/100\n",
            "250/250 [==============================] - 0s 933us/step - loss: 0.3368 - accuracy: 0.8597\n",
            "Epoch 86/100\n",
            "250/250 [==============================] - 0s 935us/step - loss: 0.3369 - accuracy: 0.8609\n",
            "Epoch 87/100\n",
            "250/250 [==============================] - 0s 874us/step - loss: 0.3366 - accuracy: 0.8611\n",
            "Epoch 88/100\n",
            "250/250 [==============================] - 0s 919us/step - loss: 0.3359 - accuracy: 0.8605\n",
            "Epoch 89/100\n",
            "250/250 [==============================] - 0s 993us/step - loss: 0.3362 - accuracy: 0.8608\n",
            "Epoch 90/100\n",
            "250/250 [==============================] - 0s 907us/step - loss: 0.3362 - accuracy: 0.8611\n",
            "Epoch 91/100\n",
            "250/250 [==============================] - 0s 882us/step - loss: 0.3359 - accuracy: 0.8610\n",
            "Epoch 92/100\n",
            "250/250 [==============================] - 0s 943us/step - loss: 0.3358 - accuracy: 0.8605\n",
            "Epoch 93/100\n",
            "250/250 [==============================] - 0s 933us/step - loss: 0.3358 - accuracy: 0.8586\n",
            "Epoch 94/100\n",
            "250/250 [==============================] - 0s 971us/step - loss: 0.3358 - accuracy: 0.8595\n",
            "Epoch 95/100\n",
            "250/250 [==============================] - 0s 914us/step - loss: 0.3356 - accuracy: 0.8597\n",
            "Epoch 96/100\n",
            "250/250 [==============================] - 0s 939us/step - loss: 0.3354 - accuracy: 0.8605\n",
            "Epoch 97/100\n",
            "250/250 [==============================] - 0s 900us/step - loss: 0.3352 - accuracy: 0.8597\n",
            "Epoch 98/100\n",
            "250/250 [==============================] - 0s 906us/step - loss: 0.3352 - accuracy: 0.8602\n",
            "Epoch 99/100\n",
            "250/250 [==============================] - 0s 892us/step - loss: 0.3352 - accuracy: 0.8589\n",
            "Epoch 100/100\n",
            "250/250 [==============================] - 0s 911us/step - loss: 0.3352 - accuracy: 0.8600\n"
          ],
          "name": "stdout"
        },
        {
          "output_type": "execute_result",
          "data": {
            "text/plain": [
              "<tensorflow.python.keras.callbacks.History at 0x7f3fcb63ef28>"
            ]
          },
          "metadata": {
            "tags": []
          },
          "execution_count": 29
        }
      ]
    },
    {
      "cell_type": "markdown",
      "metadata": {
        "id": "tJj5k2MxZga3"
      },
      "source": [
        "## Part 4 - Making the predictions and evaluating the model"
      ]
    },
    {
      "cell_type": "markdown",
      "metadata": {
        "id": "84QFoqGYeXHL"
      },
      "source": [
        "### Predicting the result of a single observation"
      ]
    },
    {
      "cell_type": "markdown",
      "metadata": {
        "id": "CGRo3eacgDdC"
      },
      "source": [
        "**Homework**\n",
        "\n",
        "Use our ANN model to predict if the customer with the following informations will leave the bank: \n",
        "\n",
        "Geography: France\n",
        "\n",
        "Credit Score: 600\n",
        "\n",
        "Gender: Male\n",
        "\n",
        "Age: 40 years old\n",
        "\n",
        "Tenure: 3 years\n",
        "\n",
        "Balance: \\$ 60000\n",
        "\n",
        "Number of Products: 2\n",
        "\n",
        "Does this customer have a credit card? Yes\n",
        "\n",
        "Is this customer an Active Member: Yes\n",
        "\n",
        "Estimated Salary: \\$ 50000\n",
        "\n",
        "So, should we say goodbye to that customer?"
      ]
    },
    {
      "cell_type": "markdown",
      "metadata": {
        "id": "ZhU1LTgPg-kH"
      },
      "source": [
        "**Solution**"
      ]
    },
    {
      "cell_type": "markdown",
      "metadata": {
        "id": "wGjx94g2n7OV"
      },
      "source": [
        "Therefore, our ANN model predicts that this customer stays in the bank!\n",
        "\n",
        "**Important note 1:** Notice that the values of the features were all input in a double pair of square brackets. That's because the \"predict\" method always expects a 2D array as the format of its inputs. And putting our values into a double pair of square brackets makes the input exactly a 2D array.\n",
        "\n",
        "**Important note 2:** Notice also that the \"France\" country was not input as a string in the last column but as \"1, 0, 0\" in the first three columns. That's because of course the predict method expects the one-hot-encoded values of the state, and as we see in the first row of the matrix of features X, \"France\" was encoded as \"1, 0, 0\". And be careful to include these values in the first three columns, because the dummy variables are always created in the first columns."
      ]
    },
    {
      "cell_type": "markdown",
      "metadata": {
        "id": "u7yx47jPZt11"
      },
      "source": [
        "### Predicting the Test set results"
      ]
    },
    {
      "cell_type": "code",
      "metadata": {
        "id": "lhsmk5dBM11W",
        "outputId": "5915f9ee-313f-42a1-f0aa-f57eda0a35f3",
        "colab": {
          "base_uri": "https://localhost:8080/"
        }
      },
      "source": [
        "y_pred = ann.predict(X_test)\n",
        "y_pred = (y_pred > 0.5)\n",
        "print(np.concatenate((y_pred.reshape(len(y_pred),1), y_test.reshape(len(y_test),1)),1))"
      ],
      "execution_count": null,
      "outputs": [
        {
          "output_type": "stream",
          "text": [
            "[[0 0]\n",
            " [0 0]\n",
            " [0 0]\n",
            " ...\n",
            " [0 0]\n",
            " [0 0]\n",
            " [1 0]]\n"
          ],
          "name": "stdout"
        }
      ]
    },
    {
      "cell_type": "markdown",
      "metadata": {
        "id": "o0oyfLWoaEGw"
      },
      "source": [
        "### Making the Confusion Matrix"
      ]
    },
    {
      "cell_type": "code",
      "metadata": {
        "id": "qsnP8YlnPEHS",
        "outputId": "2e2863b8-f6b0-4499-f271-df58a05d4f93",
        "colab": {
          "base_uri": "https://localhost:8080/"
        }
      },
      "source": [
        "from sklearn.metrics import confusion_matrix, accuracy_score\n",
        "cm = confusion_matrix(y_test, y_pred)\n",
        "print(cm)\n",
        "accuracy_score(y_test, y_pred)"
      ],
      "execution_count": null,
      "outputs": [
        {
          "output_type": "stream",
          "text": [
            "[[1526   59]\n",
            " [ 213  202]]\n"
          ],
          "name": "stdout"
        },
        {
          "output_type": "execute_result",
          "data": {
            "text/plain": [
              "0.864"
            ]
          },
          "metadata": {
            "tags": []
          },
          "execution_count": 31
        }
      ]
    }
  ]
}